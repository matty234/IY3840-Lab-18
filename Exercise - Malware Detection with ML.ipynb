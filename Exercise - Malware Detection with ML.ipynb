{
 "cells": [
  {
   "cell_type": "markdown",
   "metadata": {},
   "source": [
    "# Malware Detection with ML"
   ]
  },
  {
   "cell_type": "markdown",
   "metadata": {},
   "source": [
    "**DISCLAIMER**: This code represents only one of many possible ways to perform the same action. \n",
    "\n",
    "The documentation of scikit-learn (one of the most popular Python packages Machine Learning) is a very useful reference:\n",
    "- http://scikit-learn.org/stable/documentation.html"
   ]
  },
  {
   "cell_type": "markdown",
   "metadata": {},
   "source": [
    "## Importing libraries"
   ]
  },
  {
   "cell_type": "code",
   "execution_count": null,
   "metadata": {
    "collapsed": true
   },
   "outputs": [],
   "source": [
    "# the Dataset to be used\n",
    "from lab_dataset import malware_dataset"
   ]
  },
  {
   "cell_type": "code",
   "execution_count": null,
   "metadata": {
    "collapsed": true
   },
   "outputs": [],
   "source": [
    "# this line will plot in the python notebook the plot themselves\n",
    "%matplotlib inline "
   ]
  },
  {
   "cell_type": "code",
   "execution_count": null,
   "metadata": {
    "collapsed": true
   },
   "outputs": [],
   "source": [
    "# libraries for plotting\n",
    "import matplotlib\n",
    "import matplotlib.pyplot as plt"
   ]
  },
  {
   "cell_type": "code",
   "execution_count": null,
   "metadata": {
    "collapsed": true
   },
   "outputs": [],
   "source": [
    "# mathematical libraries\n",
    "import numpy as np\n",
    "import pandas as pd\n",
    "import sklearn\n",
    "from collections import Counter"
   ]
  },
  {
   "cell_type": "markdown",
   "metadata": {
    "collapsed": true
   },
   "source": [
    "First, we print the dataset in output just to see how it is structure"
   ]
  },
  {
   "cell_type": "code",
   "execution_count": null,
   "metadata": {},
   "outputs": [],
   "source": [
    "malware_dataset"
   ]
  },
  {
   "cell_type": "markdown",
   "metadata": {},
   "source": [
    "## Pre-processing the dataset for ML"
   ]
  },
  {
   "cell_type": "markdown",
   "metadata": {},
   "source": [
    "We now need to convert this dataset in a numerical format that can be used for learning the SVM. \n",
    "\n",
    "For example, we want to extract the labels (in `labels_list`) and the permissions as an array of words (`words_list`). In particular, the array of words will be computed as a binary bit vector, where:\n",
    "- 1 means the permission is requested\n",
    "- 0 means the permission is not requested"
   ]
  },
  {
   "cell_type": "code",
   "execution_count": null,
   "metadata": {
    "collapsed": true
   },
   "outputs": [],
   "source": [
    "words_list = []\n",
    "labels_list = []\n",
    "for sample in malware_dataset:\n",
    "    # Through the Python join function, I am creating a concatenation of words in the array\n",
    "    words_list.append(' '.join(sample[1:]))\n",
    "    # The first element of the array is the label\n",
    "    labels_list.append(sample[0])"
   ]
  },
  {
   "cell_type": "markdown",
   "metadata": {},
   "source": [
    "We use the `CountVectorizer` to get e binary vector representation of all the permissions. This function takes as input a list of strings, where each string is a concatenation of words separated by space. This is often use also in NLP (Natural Language Processing). Through the `fit_transform` function, it returns a binary representation as a feature matrix, where each column corresponds to a different feature."
   ]
  },
  {
   "cell_type": "code",
   "execution_count": null,
   "metadata": {
    "collapsed": true
   },
   "outputs": [],
   "source": [
    "from sklearn.feature_extraction.text import CountVectorizer\n",
    "vectorizer = CountVectorizer()\n",
    "X= vectorizer.fit_transform(words_list)"
   ]
  },
  {
   "cell_type": "markdown",
   "metadata": {},
   "source": [
    "The vector `X` is saved in a \"sparse\" format (i.e., it cannot be seen directly because in real-world applications the number of zeros may be high. In other words, the \"sparse\" format is like a compact data representation that occupies less RAM. "
   ]
  },
  {
   "cell_type": "code",
   "execution_count": null,
   "metadata": {},
   "outputs": [],
   "source": [
    "X"
   ]
  },
  {
   "cell_type": "markdown",
   "metadata": {},
   "source": [
    "Instead, to see the value, we need to use the `X.toarray()` function to instantiate the content, and `vectoriezer.get_feature_names()` to recover the mapping between columns and features."
   ]
  },
  {
   "cell_type": "code",
   "execution_count": null,
   "metadata": {},
   "outputs": [],
   "source": [
    "vectorizer.get_feature_names()"
   ]
  },
  {
   "cell_type": "code",
   "execution_count": null,
   "metadata": {},
   "outputs": [],
   "source": [
    "X.toarray()"
   ]
  },
  {
   "cell_type": "code",
   "execution_count": null,
   "metadata": {
    "collapsed": true
   },
   "outputs": [],
   "source": [
    "from  sklearn.preprocessing import LabelEncoder\n",
    "# The LabelEncoder will map the labels to integer values\n",
    "le = LabelEncoder()\n",
    "y = le.fit_transform(labels_list)"
   ]
  },
  {
   "cell_type": "code",
   "execution_count": null,
   "metadata": {},
   "outputs": [],
   "source": [
    "# To recover the mapping between integer and strings, we need to check the classes of the label encoder. \n",
    "# (In order words, )\n",
    "le.classes_"
   ]
  },
  {
   "cell_type": "code",
   "execution_count": null,
   "metadata": {
    "collapsed": true
   },
   "outputs": [],
   "source": [
    "# Putting the classes into a pandas.DataFrame structure\n",
    "samples = pd.DataFrame(X.toarray())"
   ]
  },
  {
   "cell_type": "code",
   "execution_count": null,
   "metadata": {},
   "outputs": [],
   "source": [
    "# Creating a new column named `label`\n",
    "samples['label'] = y"
   ]
  },
  {
   "cell_type": "code",
   "execution_count": null,
   "metadata": {
    "collapsed": true
   },
   "outputs": [],
   "source": [
    "# samples = samples[samples['label']!= 2]\n",
    "# X = samples.drop('label',axis=1)\n",
    "# y = samples['label']"
   ]
  },
  {
   "cell_type": "markdown",
   "metadata": {},
   "source": [
    "## Drawing ROC curves"
   ]
  },
  {
   "cell_type": "markdown",
   "metadata": {},
   "source": [
    "Now we perform the **classification** of an SVM classifier, and then plot the corresponding **ROC** curves. We consider two kernels: `linear` and `rbf`"
   ]
  },
  {
   "cell_type": "code",
   "execution_count": null,
   "metadata": {},
   "outputs": [],
   "source": [
    "from sklearn.model_selection import train_test_split\n",
    "from sklearn.svm import SVC\n",
    "\n",
    "# I am splitting the model into training and testing\n",
    "X_train, X_test, y_train, y_true = train_test_split(\n",
    "    X, y, test_size=0.4, random_state=22)\n",
    "\n",
    "# The matplotlib.pyplot library (here referred to with the alias \"plt\"), is used for plotting\n",
    "plt.style.use('ggplot')\n",
    "# changing the xlabel\n",
    "plt.xlabel('fpr')\n",
    "# changing the ylabel\n",
    "plt.ylabel('tpr')\n",
    "\n",
    "# I am fitting with two kernels\n",
    "for k in ['linear','rbf']:\n",
    "\n",
    "    # I am instantiating the linear classifier\n",
    "    clf = SVC(kernel=k, C=1).fit(X_train, y_train)\n",
    "    y_test = clf.predict(X_test)\n",
    "    y_score = clf.fit(X_train, y_train).decision_function(X_test)\n",
    "    fpr, tpr, thresholds = sklearn.metrics.roc_curve(y_true, y_score, pos_label=1)\n",
    "    plt.plot(fpr,tpr,marker='o',label=k)\n",
    "\n",
    "plt.legend()"
   ]
  },
  {
   "cell_type": "markdown",
   "metadata": {},
   "source": [
    "# Exercise - March 19th, 2019"
   ]
  },
  {
   "cell_type": "markdown",
   "metadata": {},
   "source": [
    "- **Dataset:** Analyze another dataset in a CSV file in this same folder: `big_dataset.csv` \n",
    "    - This dataset has 1500 goodware Android applications, and 500 malware Android applications. \n",
    "    - The label features is called `mw_family`, and is 0 for goodware, and 1 for malware. All the other features \n",
    "    - The other columns are the various features, in particular, it's a binary vector related to Android permissions; it is 0 if the permission is not requested, and 1 otherwise. "
   ]
  },
  {
   "cell_type": "markdown",
   "metadata": {},
   "source": [
    "- **Objectives:** \n",
    "    - _You need to compare the performance of: Linear SVM, RBF SVM, and Random Forest algorithm, by plotting the ROC curve of the three solutions_  \n",
    "    - _You need to report also: Precision, Recall, F-Score_"
   ]
  },
  {
   "cell_type": "markdown",
   "metadata": {},
   "source": [
    "- **Suggestions**: \n",
    "    - Use `pandas.read_csv` library to read the CSV file, which will put it in a structure called `pandas.DataFrame`, which is a matrix in which you can then access rows and columns\n",
    "    - Use `pandas.DataFrame.iloc` function to access rows and columns by number indexes by using Python slicing. For example, `df.iloc[:10,:]` will read all the first ten rows and all the columns. \n",
    "    - To access individual columns by names, call them directly: e.g., `df['mw_family']`\n",
    "    - To drop a certain column, use the `pandas.drop('columnname',axis=1)` function (e.g., to get the X of samples)"
   ]
  },
  {
   "cell_type": "code",
   "execution_count": null,
   "metadata": {
    "collapsed": true
   },
   "outputs": [],
   "source": []
  },
  {
   "cell_type": "code",
   "execution_count": null,
   "metadata": {
    "collapsed": true
   },
   "outputs": [],
   "source": []
  },
  {
   "cell_type": "code",
   "execution_count": null,
   "metadata": {
    "collapsed": true
   },
   "outputs": [],
   "source": []
  }
 ],
 "metadata": {
  "kernelspec": {
   "display_name": "Python 3",
   "language": "python",
   "name": "python3"
  },
  "language_info": {
   "codemirror_mode": {
    "name": "ipython",
    "version": 3
   },
   "file_extension": ".py",
   "mimetype": "text/x-python",
   "name": "python",
   "nbconvert_exporter": "python",
   "pygments_lexer": "ipython3",
   "version": "3.7.2"
  }
 },
 "nbformat": 4,
 "nbformat_minor": 2
}
